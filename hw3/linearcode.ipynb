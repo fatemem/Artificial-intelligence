{
 "cells": [
  {
   "cell_type": "code",
   "execution_count": 177,
   "metadata": {},
   "outputs": [
    {
     "name": "stdout",
     "output_type": "stream",
     "text": [
      "inter l11\n",
      "inter w5\n",
      "inter d4\n",
      "11 5 4\n"
     ]
    }
   ],
   "source": [
    "l=input(\"inter l\")\n",
    "w=input(\"inter w\")\n",
    "d=input(\"inter d\")\n",
    "print(l,w,d)\n",
    "l=int(l)\n",
    "w=int(w)\n",
    "d=int(d)\n"
   ]
  },
  {
   "cell_type": "code",
   "execution_count": 178,
   "metadata": {},
   "outputs": [
    {
     "name": "stdout",
     "output_type": "stream",
     "text": [
      "[ True  True  True  True  True False False False False False False]\n"
     ]
    }
   ],
   "source": [
    "import numpy as np\n",
    "array=np.zeros(l,bool)\n",
    "for i in range(0,w):\n",
    "    array[i]=1\n",
    "print(array)"
   ]
  },
  {
   "cell_type": "code",
   "execution_count": 179,
   "metadata": {},
   "outputs": [
    {
     "name": "stdout",
     "output_type": "stream",
     "text": [
      "462\n"
     ]
    }
   ],
   "source": [
    "from sympy.utilities.iterables import multiset_permutations\n",
    "count2=0\n",
    "my_list2=[]\n",
    "my_list=[]\n",
    "for p in multiset_permutations(array):\n",
    "    my_list2.append(p)\n",
    "    count2=count2+1\n",
    "    \n",
    "print(count2)\n",
    "jump=461\n",
    "if count2>jump:\n",
    "    my_list=my_list2[0:jump]\n",
    "    count=jump\n",
    "n=jump\n",
    "       "
   ]
  },
  {
   "cell_type": "code",
   "execution_count": 180,
   "metadata": {},
   "outputs": [
    {
     "name": "stderr",
     "output_type": "stream",
     "text": [
      "/home/bpc/anaconda3/lib/python3.5/site-packages/ipykernel_launcher.py:12: DeprecationWarning: numpy boolean subtract, the `-` operator, is deprecated, use the bitwise_xor, the `^` operator, or the logical_xor function instead.\n",
      "  if sys.path[0] == '':\n"
     ]
    },
    {
     "name": "stdout",
     "output_type": "stream",
     "text": [
      "{256, 385, 2, 389, 6, 139, 145, 402, 18, 277, 150, 23, 153, 282, 28, 287, 164, 41, 171, 427, 301, 310, 314, 62, 449, 194, 324, 196, 326, 457, 334, 82, 211, 356, 234, 107, 238, 366, 111, 116}\n"
     ]
    }
   ],
   "source": [
    "from networkx.generators.classic import empty_graph, path_graph, complete_graph\n",
    "from sympy import *\n",
    "import numpy as np\n",
    "import networkx as nx\n",
    "from networkx.algorithms.approximation import clique\n",
    "my_cycles=[]\n",
    "G = empty_graph(count)\n",
    "for i in range(0,count-2):\n",
    "    for j in range(i+1,count-1):\n",
    "        diff=0\n",
    "        for k in range(0,l):\n",
    "            diff=diff+abs(my_list[i][k]-my_list[j][k])\n",
    "        if diff>=d:\n",
    "            G.add_edges_from([(i, j), (j, i)])\n",
    "            \n",
    "\n",
    "my_clique=clique.max_clique(G)\n",
    "\n",
    "print(my_clique)\n",
    "for node in my_clique:\n",
    "    my_cycles.append(my_list[node])\n",
    "#     print(my_list[node])"
   ]
  },
  {
   "cell_type": "code",
   "execution_count": 181,
   "metadata": {},
   "outputs": [
    {
     "name": "stdout",
     "output_type": "stream",
     "text": [
      "2\n"
     ]
    }
   ],
   "source": [
    "v=1\n",
    "while count2-n>0:\n",
    "    v=v+1\n",
    "    k=min(count2,n+jump)\n",
    "    my_list=my_list2[n:k]\n",
    "    count=k-n\n",
    "    n=n+jump\n",
    "    \n",
    "\n",
    "    G = empty_graph(count)\n",
    "    for i in range(0,count-2):\n",
    "        for j in range(i+1,count-1):\n",
    "            diff=0\n",
    "            for k in range(0,l):\n",
    "                diff=diff+abs(my_list[i][k]-my_list[j][k])\n",
    "            if diff>=d:\n",
    "                G.add_edges_from([(i, j), (j, i)])\n",
    "\n",
    "\n",
    "    my_clique=clique.max_clique(G)\n",
    "\n",
    "#     print(my_clique)\n",
    "    for node in my_clique:\n",
    "        my_cycles.append(my_list[node])\n",
    "#         print(my_list[node])\n",
    "print(v)"
   ]
  },
  {
   "cell_type": "code",
   "execution_count": 182,
   "metadata": {},
   "outputs": [
    {
     "name": "stdout",
     "output_type": "stream",
     "text": [
      "{0, 1, 2, 3, 4, 5, 6, 7, 8, 9, 10, 11, 12, 13, 14, 15, 16, 17, 18, 19, 20, 21, 22, 23, 24, 25, 26, 27, 28, 29, 30, 31, 32, 33, 34, 35, 36, 37, 38, 39}\n",
      "[True, False, False, False, False, False, True, True, True, True, False]\n",
      "[True, True, False, False, False, False, True, True, False, False, True]\n",
      "[False, False, False, False, False, True, True, False, True, True, True]\n",
      "[True, True, False, False, False, True, False, False, True, False, True]\n",
      "[False, False, False, False, True, False, False, True, True, True, True]\n",
      "[False, True, False, False, False, True, True, True, False, True, False]\n",
      "[False, True, False, False, True, False, True, False, False, True, True]\n",
      "[True, True, False, False, True, False, False, True, False, True, False]\n",
      "[False, False, False, False, True, True, True, True, False, False, True]\n",
      "[True, False, False, False, True, True, False, False, False, True, True]\n",
      "[False, True, False, False, True, False, True, True, True, False, False]\n",
      "[False, False, False, True, False, False, True, True, False, True, True]\n",
      "[False, True, False, False, True, True, False, False, True, True, False]\n",
      "[True, False, False, False, True, True, False, True, True, False, False]\n",
      "[False, False, False, True, False, True, False, True, True, False, True]\n",
      "[True, False, False, True, False, False, False, False, True, True, True]\n",
      "[False, True, False, True, False, False, False, True, True, True, False]\n",
      "[False, False, False, True, True, False, True, False, True, False, True]\n",
      "[False, True, False, True, False, True, False, False, False, True, True]\n",
      "[True, True, False, True, False, True, True, False, False, False, False]\n",
      "[True, False, False, True, False, True, False, True, False, True, False]\n",
      "[True, False, False, True, True, False, False, True, False, False, True]\n",
      "[True, False, False, True, True, False, True, False, False, True, False]\n",
      "[False, False, True, False, False, True, False, True, False, True, True]\n",
      "[True, True, True, False, True, False, False, False, False, False, True]\n",
      "[False, True, False, True, True, True, False, True, False, False, False]\n",
      "[True, False, True, False, False, False, False, True, True, False, True]\n",
      "[False, True, True, False, False, False, False, False, True, True, True]\n",
      "[True, False, True, False, False, False, True, False, False, True, True]\n",
      "[True, True, True, True, False, False, False, False, True, False, False]\n",
      "[True, False, True, False, False, True, False, False, True, True, False]\n",
      "[False, False, True, False, True, True, False, False, True, False, True]\n",
      "[False, True, True, False, False, True, False, True, True, False, False]\n",
      "[True, False, True, False, True, True, True, False, False, False, False]\n",
      "[False, True, True, True, False, False, False, True, False, False, True]\n",
      "[False, False, True, True, False, True, True, False, False, False, True]\n",
      "[False, True, True, True, False, False, True, False, False, True, False]\n",
      "[True, False, True, True, False, False, True, True, False, False, False]\n",
      "[False, False, True, True, True, False, False, False, False, True, True]\n",
      "[False, False, True, True, True, False, False, True, True, False, False]\n"
     ]
    },
    {
     "name": "stderr",
     "output_type": "stream",
     "text": [
      "/home/bpc/anaconda3/lib/python3.5/site-packages/ipykernel_launcher.py:9: DeprecationWarning: numpy boolean subtract, the `-` operator, is deprecated, use the bitwise_xor, the `^` operator, or the logical_xor function instead.\n",
      "  if __name__ == '__main__':\n"
     ]
    }
   ],
   "source": [
    "count=len(my_cycles)\n",
    "\n",
    "my_list=my_cycles\n",
    "G = empty_graph(count)\n",
    "for i in range(0,count-2):\n",
    "    for j in range(i+1,count-1):\n",
    "        diff=0\n",
    "        for k in range(0,l):\n",
    "            diff=diff+abs(my_list[i][k]-my_list[j][k])\n",
    "        if diff>=d:\n",
    "            G.add_edges_from([(i, j), (j, i)])\n",
    "            \n",
    "\n",
    "my_clique=clique.max_clique(G)\n",
    "\n",
    "print(my_clique)\n",
    "for node in my_clique:\n",
    "    print(my_list[node])"
   ]
  },
  {
   "cell_type": "code",
   "execution_count": 183,
   "metadata": {},
   "outputs": [
    {
     "name": "stdout",
     "output_type": "stream",
     "text": [
      "<bound method Graph.number_of_nodes of <networkx.classes.graph.Graph object at 0x7f8a989c2400>>\n"
     ]
    }
   ],
   "source": [
    "print(G.number_of_nodes)"
   ]
  },
  {
   "cell_type": "code",
   "execution_count": null,
   "metadata": {},
   "outputs": [],
   "source": []
  },
  {
   "cell_type": "code",
   "execution_count": null,
   "metadata": {},
   "outputs": [],
   "source": []
  }
 ],
 "metadata": {
  "kernelspec": {
   "display_name": "Python 3",
   "language": "python",
   "name": "python3"
  },
  "language_info": {
   "codemirror_mode": {
    "name": "ipython",
    "version": 3
   },
   "file_extension": ".py",
   "mimetype": "text/x-python",
   "name": "python",
   "nbconvert_exporter": "python",
   "pygments_lexer": "ipython3",
   "version": "3.5.2"
  }
 },
 "nbformat": 4,
 "nbformat_minor": 2
}
